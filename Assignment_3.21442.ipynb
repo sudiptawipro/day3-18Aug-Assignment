{
 "cells": [
  {
   "cell_type": "markdown",
   "metadata": {},
   "source": [
    "### 1. Write a function to compute 5/0 and use try/except to catch the exceptions."
   ]
  },
  {
   "cell_type": "code",
   "execution_count": 13,
   "metadata": {
    "collapsed": true
   },
   "outputs": [],
   "source": [
    "def compute(a,b):\n",
    "    try:\n",
    "        print(a/b)\n",
    "    except ZeroDivisionError as ex:\n",
    "        print(\"Do't pass 0\")"
   ]
  },
  {
   "cell_type": "code",
   "execution_count": 14,
   "metadata": {
    "collapsed": false
   },
   "outputs": [
    {
     "name": "stdout",
     "output_type": "stream",
     "text": [
      "Do't pass 0\n"
     ]
    }
   ],
   "source": [
    "compute(10,0)"
   ]
  },
  {
   "cell_type": "markdown",
   "metadata": {},
   "source": [
    "### 2. Implement a Python program to generate all sentences where subject is in [\"Americans\", \"Indians\"] and verb is in [\"Play\", \"watch\"] and the object is in [\"Baseball\",\"cricket\"]."
   ]
  },
  {
   "cell_type": "code",
   "execution_count": 61,
   "metadata": {
    "collapsed": true
   },
   "outputs": [],
   "source": [
    "subjects=[\"Americans\",\"Indians\",\"Pakistanis\"]\n",
    "verbs=[\"play\",\"watch\"]\n",
    "objects=[\"Baseball\",\"Cricket\",\"Badminton\"]"
   ]
  },
  {
   "cell_type": "code",
   "execution_count": 66,
   "metadata": {
    "collapsed": false
   },
   "outputs": [],
   "source": [
    "def gensen(a,b,c):\n",
    "    for i in range(0,len(a)):\n",
    "        for k in range(0,len(b)):\n",
    "            for m in range(0,len(c)):\n",
    "                print(a[i] + \" \" + b[k] + \" \" + c[m])\n",
    "            "
   ]
  },
  {
   "cell_type": "code",
   "execution_count": 67,
   "metadata": {
    "collapsed": false
   },
   "outputs": [
    {
     "name": "stdout",
     "output_type": "stream",
     "text": [
      "Americans play Baseball\n",
      "Americans play Cricket\n",
      "Americans play Badminton\n",
      "Americans watch Baseball\n",
      "Americans watch Cricket\n",
      "Americans watch Badminton\n",
      "Indians play Baseball\n",
      "Indians play Cricket\n",
      "Indians play Badminton\n",
      "Indians watch Baseball\n",
      "Indians watch Cricket\n",
      "Indians watch Badminton\n",
      "Pakistanis play Baseball\n",
      "Pakistanis play Cricket\n",
      "Pakistanis play Badminton\n",
      "Pakistanis watch Baseball\n",
      "Pakistanis watch Cricket\n",
      "Pakistanis watch Badminton\n"
     ]
    }
   ],
   "source": [
    "gensen(subjects,verbs,objects)"
   ]
  },
  {
   "cell_type": "code",
   "execution_count": null,
   "metadata": {
    "collapsed": true
   },
   "outputs": [],
   "source": []
  }
 ],
 "metadata": {
  "kernelspec": {
   "display_name": "Python [default]",
   "language": "python",
   "name": "python3"
  },
  "language_info": {
   "codemirror_mode": {
    "name": "ipython",
    "version": 3
   },
   "file_extension": ".py",
   "mimetype": "text/x-python",
   "name": "python",
   "nbconvert_exporter": "python",
   "pygments_lexer": "ipython3",
   "version": "3.5.5"
  }
 },
 "nbformat": 4,
 "nbformat_minor": 1
}
