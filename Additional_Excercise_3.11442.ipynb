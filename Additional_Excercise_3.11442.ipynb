{
 "cells": [
  {
   "cell_type": "markdown",
   "metadata": {},
   "source": [
    "### 1) Write a python program which creates a class named Cone and write a function calculate_area which calculates the area of the Cone."
   ]
  },
  {
   "cell_type": "code",
   "execution_count": 34,
   "metadata": {
    "collapsed": true
   },
   "outputs": [],
   "source": [
    "import math\n",
    "class Cone:\n",
    "    def __init__(self):\n",
    "        self.r = int(input(\"Enter the radius:\"))\n",
    "        self.h = int(input(\"Enter the hieght:\"))\n",
    "        self.calculate_area()\n",
    "        \n",
    "    def calculate_area(self):\n",
    "        l = math.sqrt(self.r * self.r + self.h * self.h)\n",
    "        area = math.pi * self.r * (self.r + l)\n",
    "        print(\"Surface area of a cone: {}\".format(area))\n",
    "        "
   ]
  },
  {
   "cell_type": "code",
   "execution_count": 35,
   "metadata": {
    "collapsed": false
   },
   "outputs": [
    {
     "name": "stdout",
     "output_type": "stream",
     "text": [
      "Enter the radius:1\n",
      "Enter the hieght:1\n",
      "Surface area of a cone: 7.584475591748159\n"
     ]
    }
   ],
   "source": [
    "x = Cone()"
   ]
  },
  {
   "cell_type": "markdown",
   "metadata": {},
   "source": [
    "### 2) Define a class MathOperation which implements pow(x,n) without using python's in-built pow() method\n",
    "\n",
    "            Sample Execution:\n",
    "            M = MathOperation()\n",
    "            print(M.pow(2, 3))\n",
    "            8\n",
    "            print(M.pow(5, -3))\n",
    "            0.008\n",
    "            print(M.pow(-2, 5))\n",
    "            -32\n",
    "            print(M.pow(-5, -3))\n",
    "            -0.008\n",
    "            print(M.pow(20000,0))\n",
    "            1"
   ]
  },
  {
   "cell_type": "code",
   "execution_count": 54,
   "metadata": {
    "collapsed": true
   },
   "outputs": [],
   "source": [
    "class MathOpertaion:\n",
    "    def __init__(self):\n",
    "        pass\n",
    "    def power(self,a,b):\n",
    "        return a**b"
   ]
  },
  {
   "cell_type": "code",
   "execution_count": 55,
   "metadata": {
    "collapsed": true
   },
   "outputs": [],
   "source": [
    "M=MathOpertaion()"
   ]
  },
  {
   "cell_type": "code",
   "execution_count": 56,
   "metadata": {
    "collapsed": false
   },
   "outputs": [
    {
     "name": "stdout",
     "output_type": "stream",
     "text": [
      "8\n"
     ]
    }
   ],
   "source": [
    "print(M.power(2,3))"
   ]
  },
  {
   "cell_type": "code",
   "execution_count": 58,
   "metadata": {
    "collapsed": false
   },
   "outputs": [
    {
     "name": "stdout",
     "output_type": "stream",
     "text": [
      "0.008\n"
     ]
    }
   ],
   "source": [
    "print(M.power(5, -3))"
   ]
  },
  {
   "cell_type": "code",
   "execution_count": 59,
   "metadata": {
    "collapsed": false
   },
   "outputs": [
    {
     "name": "stdout",
     "output_type": "stream",
     "text": [
      "-32\n"
     ]
    }
   ],
   "source": [
    "print(M.power(-2, 5))"
   ]
  },
  {
   "cell_type": "markdown",
   "metadata": {},
   "source": [
    "### 3) Write a python program that creates a class Base and Derived. Use inbuilt function issubclass and isinstance which gives boolean results.(True or False)\n",
    "    Check:\n",
    "    Derived class is a subclass of Base class which will return true\n",
    "    Base class is a subclass of Derived class which will return false\n",
    "    Base class is an instance of Derived class which will return false\n",
    "    Derived class is an instance of Base class which will return true"
   ]
  },
  {
   "cell_type": "code",
   "execution_count": 61,
   "metadata": {
    "collapsed": true
   },
   "outputs": [],
   "source": [
    "class Base:\n",
    "    def __init__(self):\n",
    "        pass\n",
    "    "
   ]
  },
  {
   "cell_type": "code",
   "execution_count": 63,
   "metadata": {
    "collapsed": true
   },
   "outputs": [],
   "source": [
    "class Derived(Base):\n",
    "    def __init__(self):\n",
    "        pass"
   ]
  },
  {
   "cell_type": "code",
   "execution_count": 71,
   "metadata": {
    "collapsed": false
   },
   "outputs": [
    {
     "data": {
      "text/plain": [
       "False"
      ]
     },
     "execution_count": 71,
     "metadata": {},
     "output_type": "execute_result"
    }
   ],
   "source": [
    "issubclass(Base,Derived)"
   ]
  },
  {
   "cell_type": "code",
   "execution_count": 72,
   "metadata": {
    "collapsed": false
   },
   "outputs": [
    {
     "data": {
      "text/plain": [
       "True"
      ]
     },
     "execution_count": 72,
     "metadata": {},
     "output_type": "execute_result"
    }
   ],
   "source": [
    "issubclass(Derived,Base)"
   ]
  },
  {
   "cell_type": "code",
   "execution_count": 73,
   "metadata": {
    "collapsed": false
   },
   "outputs": [
    {
     "data": {
      "text/plain": [
       "False"
      ]
     },
     "execution_count": 73,
     "metadata": {},
     "output_type": "execute_result"
    }
   ],
   "source": [
    "isinstance(Base,Derived)"
   ]
  },
  {
   "cell_type": "code",
   "execution_count": 74,
   "metadata": {
    "collapsed": false
   },
   "outputs": [
    {
     "data": {
      "text/plain": [
       "False"
      ]
     },
     "execution_count": 74,
     "metadata": {},
     "output_type": "execute_result"
    }
   ],
   "source": [
    "isinstance(Derived,Base)"
   ]
  },
  {
   "cell_type": "markdown",
   "metadata": {},
   "source": [
    "### 4) Write a python program that creates base class Person which has two methods\n",
    "    def __init__(self, first, last)\n",
    "    def __str__(self)\n",
    "    Also create a derived class named Employee which uses the base class\n",
    "    method “def __str__(self)” using “super()” to concatenate first name with last name"
   ]
  },
  {
   "cell_type": "code",
   "execution_count": 22,
   "metadata": {
    "collapsed": false
   },
   "outputs": [],
   "source": [
    "class Person:\n",
    "    def __init__(self,first,last):\n",
    "        self.first = first\n",
    "        self.last = last\n",
    "        \n",
    "    def __str__(self):\n",
    "        pass"
   ]
  },
  {
   "cell_type": "code",
   "execution_count": 25,
   "metadata": {
    "collapsed": false
   },
   "outputs": [],
   "source": [
    "class Employee(Person):\n",
    "    def __init__(self,first,last):\n",
    "        super().__init__(first,last)\n",
    "        self.__str__()\n",
    "\n",
    "    def __str__(self):\n",
    "        print(self.first + \" \" + self.last)\n",
    "        "
   ]
  },
  {
   "cell_type": "code",
   "execution_count": 27,
   "metadata": {
    "collapsed": false
   },
   "outputs": [
    {
     "name": "stdout",
     "output_type": "stream",
     "text": [
      "Sudipta Das\n"
     ]
    }
   ],
   "source": [
    "e = Employee(\"Sudipta\",\"Das\")"
   ]
  }
 ],
 "metadata": {
  "anaconda-cloud": {},
  "kernelspec": {
   "display_name": "Python [default]",
   "language": "python",
   "name": "python3"
  },
  "language_info": {
   "codemirror_mode": {
    "name": "ipython",
    "version": 3
   },
   "file_extension": ".py",
   "mimetype": "text/x-python",
   "name": "python",
   "nbconvert_exporter": "python",
   "pygments_lexer": "ipython3",
   "version": "3.5.5"
  }
 },
 "nbformat": 4,
 "nbformat_minor": 1
}
