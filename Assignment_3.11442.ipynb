{
 "cells": [
  {
   "cell_type": "markdown",
   "metadata": {},
   "source": [
    "## 1.1 Write a Python Program(with class concepts) to find the area of the triangle using the below formula.\n",
    "\n",
    "            area = (s*(s-a)*(s-b)*(s-c)) ** 0.5\n",
    "            Function to take the length of the sides of triangle from user should be defined in the parent\n",
    "            class and function to calculate the area should be defined in subclass."
   ]
  },
  {
   "cell_type": "markdown",
   "metadata": {},
   "source": [
    "### First Approach"
   ]
  },
  {
   "cell_type": "code",
   "execution_count": 70,
   "metadata": {
    "collapsed": true
   },
   "outputs": [],
   "source": [
    "class triangle:\n",
    "    def __init__(self):\n",
    "        pass\n",
    "    def take_dtls(self,s,a,b,c):\n",
    "        self.a = a\n",
    "        self.b = b\n",
    "        self.c = c\n",
    "        self.s = s\n",
    "    \n",
    "        "
   ]
  },
  {
   "cell_type": "code",
   "execution_count": 86,
   "metadata": {
    "collapsed": false
   },
   "outputs": [],
   "source": [
    "class calarea(triangle):\n",
    "    def __init__(self):\n",
    "        pass\n",
    "          \n",
    "    def area(self,s,a,b,c):\n",
    "        triangle.take_dtls(self,s,a,b,c)\n",
    "        print(a)\n",
    "        \n",
    "        ar = (s*(s-a)*(s-b)*(s-c)) ** 0.5\n",
    "        print(ar)\n",
    "        \n",
    "        "
   ]
  },
  {
   "cell_type": "code",
   "execution_count": 87,
   "metadata": {
    "collapsed": false
   },
   "outputs": [
    {
     "name": "stdout",
     "output_type": "stream",
     "text": [
      "3\n",
      "62.609903369994115\n"
     ]
    }
   ],
   "source": [
    "x = calarea()\n",
    "x.area(10,3,3,2)"
   ]
  },
  {
   "cell_type": "markdown",
   "metadata": {},
   "source": [
    "### Second Approach"
   ]
  },
  {
   "cell_type": "code",
   "execution_count": 145,
   "metadata": {
    "collapsed": false
   },
   "outputs": [],
   "source": [
    "class triangle:\n",
    "    def __init__(self):\n",
    "        pass\n",
    "    \n",
    "    def take_dtls(self):\n",
    "        self.a = input(\"Enter a : \")\n",
    "        self.b = input(\"Enter b : \")\n",
    "        self.c = input(\"Enter c : \")\n",
    "        self.s = input(\"Enter s : \")\n",
    "    "
   ]
  },
  {
   "cell_type": "code",
   "execution_count": 173,
   "metadata": {
    "collapsed": false
   },
   "outputs": [],
   "source": [
    "class calarea(triangle):\n",
    "    def __init__(self):\n",
    "        pass\n",
    "          \n",
    "    def area(self):\n",
    "        triangle.take_dtls(self)\n",
    "        ar = (int(self.s)*(int(self.s)-int(self.a))*(int(self.s)-int(self.b))*(int(self.s)-int(self.c))) ** 0.5\n",
    "        print(\"Triangle Area: {} \".format(ar))"
   ]
  },
  {
   "cell_type": "code",
   "execution_count": 174,
   "metadata": {
    "collapsed": true
   },
   "outputs": [],
   "source": [
    "x = calarea()"
   ]
  },
  {
   "cell_type": "code",
   "execution_count": 175,
   "metadata": {
    "collapsed": false
   },
   "outputs": [
    {
     "name": "stdout",
     "output_type": "stream",
     "text": [
      "Enter a : 1\n",
      "Enter b : 1\n",
      "Enter c : 1\n",
      "Enter s : 1\n",
      "Triangle Area: 0.0 \n"
     ]
    }
   ],
   "source": [
    "x.area()"
   ]
  },
  {
   "cell_type": "markdown",
   "metadata": {},
   "source": [
    "### 1.2 Write a function filter_long_words() that takes a list of words and an integer n and returns the list of words that are longer than n."
   ]
  },
  {
   "cell_type": "code",
   "execution_count": 176,
   "metadata": {
    "collapsed": true
   },
   "outputs": [],
   "source": [
    "def filter_long_words(words,n):\n",
    "    newwords = []\n",
    "    for i in words:\n",
    "        if len(i) > n:\n",
    "            newwords.append(i)\n",
    "    return newwords"
   ]
  },
  {
   "cell_type": "code",
   "execution_count": 179,
   "metadata": {
    "collapsed": false
   },
   "outputs": [
    {
     "data": {
      "text/plain": [
       "['aaa', 'aaaa']"
      ]
     },
     "execution_count": 179,
     "metadata": {},
     "output_type": "execute_result"
    }
   ],
   "source": [
    "filter_long_words(['a','aa','aaa','aaaa'],2)"
   ]
  },
  {
   "cell_type": "markdown",
   "metadata": {},
   "source": [
    "### 2.1 Write a Python program using function concept that maps list of words into a list of integers representing the lengths of the corresponding words."
   ]
  },
  {
   "cell_type": "code",
   "execution_count": 184,
   "metadata": {
    "collapsed": true
   },
   "outputs": [],
   "source": [
    "def wordlenmap(word):\n",
    "    wordlen = []\n",
    "    for i in word:\n",
    "        wordlen.append(len(i))\n",
    "    return wordlen"
   ]
  },
  {
   "cell_type": "code",
   "execution_count": 185,
   "metadata": {
    "collapsed": false
   },
   "outputs": [
    {
     "data": {
      "text/plain": [
       "[1, 2, 3]"
      ]
     },
     "execution_count": 185,
     "metadata": {},
     "output_type": "execute_result"
    }
   ],
   "source": [
    "wordlenmap(['a','aa','aaa'])"
   ]
  },
  {
   "cell_type": "markdown",
   "metadata": {},
   "source": [
    "### 2.2 Write a Python function which takes a character (i.e. a string of length 1) and returns True if it is a vowel, False otherwise."
   ]
  },
  {
   "cell_type": "code",
   "execution_count": 193,
   "metadata": {
    "collapsed": true
   },
   "outputs": [],
   "source": [
    "def idenvowel(c):\n",
    "    vowel = ['a','e','i','o','u']\n",
    "    for i in vowel:\n",
    "        if i == c:\n",
    "            return True\n",
    "        \n",
    "    return False\n",
    "        \n",
    "    "
   ]
  },
  {
   "cell_type": "code",
   "execution_count": 195,
   "metadata": {
    "collapsed": false
   },
   "outputs": [
    {
     "data": {
      "text/plain": [
       "True"
      ]
     },
     "execution_count": 195,
     "metadata": {},
     "output_type": "execute_result"
    }
   ],
   "source": [
    "idenvowel('a')"
   ]
  }
 ],
 "metadata": {
  "anaconda-cloud": {},
  "kernelspec": {
   "display_name": "Python [default]",
   "language": "python",
   "name": "python3"
  },
  "language_info": {
   "codemirror_mode": {
    "name": "ipython",
    "version": 3
   },
   "file_extension": ".py",
   "mimetype": "text/x-python",
   "name": "python",
   "nbconvert_exporter": "python",
   "pygments_lexer": "ipython3",
   "version": "3.5.5"
  }
 },
 "nbformat": 4,
 "nbformat_minor": 1
}
